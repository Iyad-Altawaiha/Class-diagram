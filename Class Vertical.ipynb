import sys
import os
import json
import openai
import shutil


from PyQt5 import QtWidgets, QtGui, QtCore
from PyQt5.QtCore import Qt
from PyQt5.QtWidgets import QTableWidgetItem, QFileDialog, QDesktopWidget, QMainWindow
from plantuml import PlantUML
from PyQt5.QtGui import QPixmap
from tabulate import tabulate


class MyWindow(QMainWindow):
    def __init__(self):
        super().__init__()

        # Set the window size based on the screen resolution
        desktop = QDesktopWidget().screenGeometry()
        self.setFixedSize(710, 670)
        self.initUI()
        
        
    def initUI(self):
        self.setGeometry(50, 50, 760, 800)
        self.setWindowTitle("ClassDiagGen tool")
          

        # Create a status bar
        self.statusBar().showMessage("Ready")
        
         # Create menubar
        menubar = self.menuBar()
        
        # Create menu items
        fileMenu = menubar.addMenu('File')
        editMenu = menubar.addMenu('Edit')
        contactMenu = menubar.addMenu('Contact Us')
        
        # Add actions to the file menu
        openFile = QtWidgets.QAction('Open', self)
        openFile.triggered.connect(self.open_file_dialog)  # Connect to the file dialog method
        fileMenu.addAction(openFile)
        
        # Add actions to the file menu
        close_action = QtWidgets.QAction("Close", self)
        close_action.triggered.connect(self.close_application)
        fileMenu.addAction(close_action)



        # Create a tab widget
        self.tabs = QtWidgets.QTabWidget(self)
        self.setCentralWidget(self.tabs)
        self.tabs.setGeometry(0, 0, 800, 800)
        
        # Create the first tab
        self.tab1 = QtWidgets.QWidget()
        self.tabs.addTab(self.tab1, "Class Diagram")   
                  
        # Create the text box to input the sentence
        self.sentence_input = QtWidgets.QTextEdit(self.tab1)
        self.sentence_input.move(150, 50)
        self.sentence_input.resize(500, 80)
        self.sentence_input.setStyleSheet("""
            QTextEdit {
                border: 1px solid #1e90ff;
                
            }
        """)


        # Create the label for the text box
        self.sentence_label = QtWidgets.QLabel(self.tab1)
        self.sentence_label.setText("Enter the Requirement Specification:")
        self.sentence_label.move(150, 20)

        # Create the text area to display the results
        self.results_text = QtWidgets.QTextEdit(self.tab1)
        self.results_text.move(50, 150)
        self.results_text.resize(600, 200)
        self.results_text.setReadOnly(True)
        self.results_text.setStyleSheet("""
            QTextEdit {
                border: 1px solid #1e90ff;
                
            }
        """)
        
        # Create the text area2 to display the results
        self.results_text1 = QtWidgets.QTextEdit(self.tab1)
        self.results_text1.move(50, 380)
        self.results_text1.resize(600, 200)
        self.results_text1.setReadOnly(True)
        self.results_text1.setStyleSheet("""
            QTextEdit {
                border: 1px solid #1e90ff;
                
            }
        """)
        
        # Create a button to open the file dialog
        self.upload_button = QtWidgets.QPushButton('Upload File', self.tab1)
        self.upload_button.move(50, 40)
        self.upload_button.setStyleSheet("background-color: blue; color: white;")
        self.upload_button.clicked.connect(self.open_file_dialog)
        
        # Create the Draw button
        self.Draw_button = QtWidgets.QPushButton(self.tab1)
        self.Draw_button.setText("Draw Diagram")
        self.Draw_button.move(50, 115)
        self.Draw_button.setStyleSheet("background-color: blue; color: white;")
        self.Draw_button.clicked.connect(self.create_diagram)
        
        # Create the extract button
        self.extract_button = QtWidgets.QPushButton(self.tab1)
        self.extract_button.setText("Class Code")
        self.extract_button.move(50, 65)
        self.extract_button.setStyleSheet("background-color: blue; color: white;")
        self.extract_button.clicked.connect(self.on_extract_clicked)
        
        # Create the classes button
        self.class_button = QtWidgets.QPushButton(self.tab1)
        self.class_button.setText("Elements")
        self.class_button.move(50, 90)
        self.class_button.setStyleSheet("background-color: blue; color: white;")
        self.class_button.clicked.connect(self.on_class_clicked)  
        
                
        # Add actions to the edit menu
        clearInputAction = QtWidgets.QAction('Clear Input', self)
        clearInputAction.triggered.connect(self.sentence_input.clear)  # Clear the input field
        editMenu.addAction(clearInputAction)

        clearResultsAction = QtWidgets.QAction('Clear Results', self)
        clearResultsAction.triggered.connect(self.results_text.clear)  # Clear the results field
        clearResultsAction.triggered.connect(self.results_text1.clear)  # Clear the results field
        editMenu.addAction(clearResultsAction)

        # Add actions to the contact us menu
        viewContactInfoAction = QtWidgets.QAction('View Contact Info', self)
        viewContactInfoAction.triggered.connect(self.view_contact_info)  # Show contact info
        contactMenu.addAction(viewContactInfoAction)

        sendFeedbackAction = QtWidgets.QAction('Send Feedback', self)
        sendFeedbackAction.triggered.connect(self.send_feedback)  # Open a dialog to send feedback
        contactMenu.addAction(sendFeedbackAction)
        
    def close_application(self):
        choice = QtWidgets.QMessageBox.question(self, 'Confirmation',
                                                "Are you sure you want to exit?",
                                                QtWidgets.QMessageBox.Yes | QtWidgets.QMessageBox.No)
        if choice == QtWidgets.QMessageBox.Yes:
            sys.exit()
                     
        
    def view_contact_info(self):
        msg = QtWidgets.QMessageBox()
        msg.setWindowTitle("Contact Info")
        msg.setText("Iyad Altawaiha\nEmail: Iyad.twh@yahoo.com\nPhone: 00601128164292")
        msg.exec_()

    def send_feedback(self):
        dialog = QtWidgets.QDialog()
        dialog.setWindowTitle("Send Feedback")

        layout = QtWidgets.QVBoxLayout()

        label = QtWidgets.QLabel("Enter your feedback:")
        layout.addWidget(label)

        feedback_input = QtWidgets.QTextEdit()
        layout.addWidget(feedback_input)

        submit_button = QtWidgets.QPushButton("Submit")
        submit_button.clicked.connect(lambda: self.submit_feedback(dialog, feedback_input.toPlainText()))
        layout.addWidget(submit_button)

        dialog.setLayout(layout)
        dialog.exec_()

    def submit_feedback(self, dialog, feedback):
        print("Feedback received:", feedback)
        # Here you could add code to send the feedback to your email or store it somewhere.
        # We'll just close the dialog for now.
        dialog.close()   


    def create_diagram(self):
        
        self.statusBar().showMessage("Generating diagram...")
        
        # Create a PlantUML object with the URL of a PlantUML server
        puml = PlantUML(url='http://www.plantuml.com/plantuml/png/')

        # Get UML code from text area
        uml_text = self.results_text1.toPlainText()

        # Save your PlantUML code to a .puml file
        with open('diagram.puml', 'w') as f:
            f.write(uml_text)

        # Generate the diagram and save it to a file
        puml.processes_file('diagram.puml')

        if os.path.exists("diagram.png"):
            try:
                # Create a new window for the diagram
                diagram_window = QtWidgets.QDialog()
                diagram_window.setWindowTitle("Diagram")

                # Create a QLabel to show the diagram image
                diagram_label = QtWidgets.QLabel(diagram_window)
                diagram_label.setPixmap(QtGui.QPixmap("diagram.png"))

                # Create a Save button
                save_button = QtWidgets.QPushButton("Save", diagram_window)
                save_button.clicked.connect(self.save_diagram)

                # Create a layout and set it for the diagram window
                layout = QtWidgets.QVBoxLayout(diagram_window)
                layout.addWidget(diagram_label)
                layout.addWidget(save_button)

                # Set the window size and show it
                diagram_window.resize(800, 600)
                diagram_window.exec_()
            except Exception as e:
                error_message = f"Failed to display the diagram: {str(e)}"
                QtWidgets.QMessageBox.warning(self, "Error", error_message)
        else:
            error_message = "Failed to generate the diagram. Check your PlantUML code."
            QtWidgets.QMessageBox.warning(self, "Error", error_message)

        # Clean up temporary files
        if os.path.exists("diagram.puml"):
            os.remove("diagram.puml")
        if os.path.exists("diagram.png"):
            os.remove("diagram.png")
            
        self.statusBar().showMessage("Diagram is generated")           

    def save_diagram(self):
        # Open a file dialog to select the save location
        file_dialog = QtWidgets.QFileDialog()
        save_path, _ = file_dialog.getSaveFileName(self, "Save Diagram", "", "PNG Files (*.png)")

        if save_path:
            # Copy the diagram file to the selected save location
            if os.path.exists("diagram.png"):
                try:
                    shutil.copyfile("diagram.png", save_path)
                    QtWidgets.QMessageBox.information(self, "Save Successful", "Diagram saved successfully.")
                except Exception as e:
                    error_message = f"Failed to save the diagram: {str(e)}"
                    QtWidgets.QMessageBox.warning(self, "Error", error_message)
            else:
                error_message = "Failed to find the diagram file."
                QtWidgets.QMessageBox.warning(self, "Error", error_message)


    def open_file_dialog(self):
        options = QFileDialog.Options()
        options |= QFileDialog.DontUseNativeDialog
        file_name, _ = QFileDialog.getOpenFileName(self, "Select a file", "", "Text Files (*.txt)", options=options)
        if file_name:
            with open(file_name, 'r') as f:
                text = f.read()
            self.sentence_input.setText(text)

        
    def on_extract_clicked(self):
        self.statusBar().showMessage("Generating class code...")
        
        # Get the sentence from the text box
        sentence = self.sentence_input.toPlainText()

        # use your openai api key
        openai.api_key = "Contact the author to get the key: Iyad.twh@yahoo.com"

        # Clear the results text area
        
        self.results_text1.setPlainText("")
        
                 
        # Define the prompt
        prompt = (f"I want you to act as a professional system analyst and designer with specialized proficiency in generating PlantUML class diagrams;  Your task is to construct a PlantUML class diagram derived from the following textual description. I urge you to extract all possible classes and their attributes, methods, and relations. Please ensure that your diagram adheres to standard PlantUML syntax and best practices. Here is the textual description that should guide your class diagram design:{sentence}")
        # Generate a description of the outcome using GPT-3
        completions = openai.Completion.create(
            engine="text-davinci-003",
            prompt=prompt,
            max_tokens=2048,
            n=1,
            stop=None,
            temperature=0.5,
        )

        # Print the generated description
        generated_text = completions.choices[0].text.strip()
        self.results_text1.append(generated_text)
        
        # Change the message in the status bar
        self.statusBar().showMessage("Class code is Generated")
         
        
    def on_class_clicked(self):
        
        self.statusBar().showMessage("Extracting classes...")
        # Get the sentence from the text box
        sentence = self.sentence_input.toPlainText()

        # use your openai api key
        openai.api_key = "Contact the author to get the key: Iyad.twh@yahoo.com"

        # Clear the results text area
        self.results_text.setPlainText("")
        
        
                 
        # Define the prompt
        prompt = (f"As a professional system designer and analyst, your task involves analysis of the provided text to identify all possible classes and their respective elements and relations. Apply your analytical skills to ensure the extraction of all classes and their elements. Here is the text for analysis: '{sentence}'")         
        completions = openai.Completion.create(
            engine="text-davinci-003",
            prompt=prompt,
            max_tokens=2048,
            n=1,
            stop=None,
            temperature=0.5,
        )

        # Print the generated description
        generated_text = completions.choices[0].text.strip()
        self.results_text.append(generated_text)        

        # Change the message in the status bar
        self.statusBar().showMessage("Classes are extracted")

      
if __name__ == '__main__':
    app = QtWidgets.QApplication([])
    window = MyWindow()
    window.show()
    try:
        sys.exit(app.exec_())
    except SystemExit:
        print("Closing window...")


